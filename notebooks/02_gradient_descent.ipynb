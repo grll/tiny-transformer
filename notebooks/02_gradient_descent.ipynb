{
 "cells": [
  {
   "cell_type": "markdown",
   "id": "b95817b9",
   "metadata": {},
   "source": [
    "# Gradient Descent\n",
    "\n",
    "In this notebook we will explore the math behind the gradient descent of our most simplified decoder-only transformer.\n",
    "\n",
    "Let's start by visualising what we are currently working with (don't worry we will break it down):"
   ]
  },
  {
   "cell_type": "markdown",
   "id": "70517381",
   "metadata": {},
   "source": [
    "![title](../excalidraw/1d_simple_decoder.png)"
   ]
  },
  {
   "cell_type": "markdown",
   "id": "d02f92b2",
   "metadata": {},
   "source": [
    "## Definitions\n",
    "\n",
    "### $\\vec{x}$\n",
    "\n",
    "$\\vec{x}$ is our input vector. You can think of it as our embedding vector but in 1d (as if it was only one value per token).\n",
    "\n",
    "In the diagram above I used 2 tokens to show the attention mechanism between the 2 tokens instead of only self-attention.\n",
    "\n",
    "That's why you get 2 embedding values $x_1$ and $x_2$.\n",
    "\n",
    "### $w_q$ $w_k$ $w_v$\n",
    "\n",
    "This are weights values (instead of matrix) that we use to compute the queries ($q_1$, $q_2$), keys ($k_1$, $k_2$), values ($v_1$, $v_2$).\n",
    "\n",
    "### $dot$\n",
    "\n",
    "$dot$ is the dot product between the queries of each tokens and the keys of each tokens.\n",
    "\n",
    "Formally it would be written as $\\vec{q} \\cdot \\vec{k}^T$.\n",
    "\n",
    "### $\\sigma$\n",
    "\n",
    "$\\sigma$ usually denotes a sigmoid but here will be used for the softmax for each row.\n",
    "\n",
    "$softmax(z_i) = \\frac{e^{z_i}}{\\sum_{j \\in row}{e^{z_j}}}$\n",
    "\n",
    "### $\\times$\n",
    "\n",
    "$\\times$ is a simple matrix multiple that we do between the activations given by the softmax dot product and the values.\n",
    "\n",
    "Here we basically create a scalar for each token based on the \"value\" of all tokens weighted by the attention.\n",
    "\n",
    "### $w^{ff}_i$\n",
    "\n",
    "This is our feed-forward weights. Note that we use it to directly generate $C$ values assuming a vocabulary size of $C$ (C categories).\n",
    "\n",
    "### $z^{ff}_{i,j}$\n",
    "\n",
    "$z^{ff}_{i,j}$ are the \"logits\" coming out of the feed-forward network. This is pre-softmax before becoming probabilities.\n",
    "\n",
    "$i$ correspond the rows of the logits matrix. Each row correpond to a token and his based on the attention from the query of that token.\n",
    "\n",
    "$j$ correpond to the columns of the logits matrix. Since we chose to match directly $C$ instead of using a projection matrix to simplify, each column is one class = 1 token of our whole vocabulary.\n",
    "\n",
    "### $a^{ff}_{i,j}$\n",
    "\n",
    "$a^{ff}_{i,j}$ those are the activations post-softmax. You can see what $i$ and $j$ corresponds to just above."
   ]
  },
  {
   "cell_type": "code",
   "execution_count": null,
   "id": "ff897fa0",
   "metadata": {
    "vscode": {
     "languageId": "plaintext"
    }
   },
   "outputs": [],
   "source": []
  },
  {
   "cell_type": "markdown",
   "id": "ebb3dd3a",
   "metadata": {},
   "source": []
  }
 ],
 "metadata": {
  "language_info": {
   "name": "python"
  }
 },
 "nbformat": 4,
 "nbformat_minor": 5
}
